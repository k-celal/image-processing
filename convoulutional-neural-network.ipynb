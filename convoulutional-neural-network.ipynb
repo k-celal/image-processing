{
 "cells": [
  {
   "cell_type": "markdown",
   "metadata": {},
   "source": [
    "# Convolutional Neural Networks (CNN)"
   ]
  },
  {
   "cell_type": "code",
   "execution_count": 1,
   "metadata": {},
   "outputs": [],
   "source": [
    "import numpy as np\n",
    "import pandas as pd \n",
    "import seaborn as sns\n",
    "import matplotlib.pyplot as plt\n",
    "\n",
    "import warnings\n",
    "\n",
    "warnings.filterwarnings('ignore')"
   ]
  },
  {
   "cell_type": "code",
   "execution_count": 2,
   "metadata": {},
   "outputs": [],
   "source": [
    "train = pd.read_csv('data/train.csv')"
   ]
  },
  {
   "cell_type": "code",
   "execution_count": 3,
   "metadata": {},
   "outputs": [
    {
     "data": {
      "text/plain": [
       "(42000, 785)"
      ]
     },
     "execution_count": 3,
     "metadata": {},
     "output_type": "execute_result"
    }
   ],
   "source": [
    "train.shape"
   ]
  },
  {
   "cell_type": "code",
   "execution_count": 4,
   "metadata": {},
   "outputs": [
    {
     "data": {
      "text/html": [
       "<div>\n",
       "<style scoped>\n",
       "    .dataframe tbody tr th:only-of-type {\n",
       "        vertical-align: middle;\n",
       "    }\n",
       "\n",
       "    .dataframe tbody tr th {\n",
       "        vertical-align: top;\n",
       "    }\n",
       "\n",
       "    .dataframe thead th {\n",
       "        text-align: right;\n",
       "    }\n",
       "</style>\n",
       "<table border=\"1\" class=\"dataframe\">\n",
       "  <thead>\n",
       "    <tr style=\"text-align: right;\">\n",
       "      <th></th>\n",
       "      <th>label</th>\n",
       "      <th>pixel0</th>\n",
       "      <th>pixel1</th>\n",
       "      <th>pixel2</th>\n",
       "      <th>pixel3</th>\n",
       "      <th>pixel4</th>\n",
       "      <th>pixel5</th>\n",
       "      <th>pixel6</th>\n",
       "      <th>pixel7</th>\n",
       "      <th>pixel8</th>\n",
       "      <th>...</th>\n",
       "      <th>pixel774</th>\n",
       "      <th>pixel775</th>\n",
       "      <th>pixel776</th>\n",
       "      <th>pixel777</th>\n",
       "      <th>pixel778</th>\n",
       "      <th>pixel779</th>\n",
       "      <th>pixel780</th>\n",
       "      <th>pixel781</th>\n",
       "      <th>pixel782</th>\n",
       "      <th>pixel783</th>\n",
       "    </tr>\n",
       "  </thead>\n",
       "  <tbody>\n",
       "    <tr>\n",
       "      <th>0</th>\n",
       "      <td>1</td>\n",
       "      <td>0</td>\n",
       "      <td>0</td>\n",
       "      <td>0</td>\n",
       "      <td>0</td>\n",
       "      <td>0</td>\n",
       "      <td>0</td>\n",
       "      <td>0</td>\n",
       "      <td>0</td>\n",
       "      <td>0</td>\n",
       "      <td>...</td>\n",
       "      <td>0</td>\n",
       "      <td>0</td>\n",
       "      <td>0</td>\n",
       "      <td>0</td>\n",
       "      <td>0</td>\n",
       "      <td>0</td>\n",
       "      <td>0</td>\n",
       "      <td>0</td>\n",
       "      <td>0</td>\n",
       "      <td>0</td>\n",
       "    </tr>\n",
       "    <tr>\n",
       "      <th>1</th>\n",
       "      <td>0</td>\n",
       "      <td>0</td>\n",
       "      <td>0</td>\n",
       "      <td>0</td>\n",
       "      <td>0</td>\n",
       "      <td>0</td>\n",
       "      <td>0</td>\n",
       "      <td>0</td>\n",
       "      <td>0</td>\n",
       "      <td>0</td>\n",
       "      <td>...</td>\n",
       "      <td>0</td>\n",
       "      <td>0</td>\n",
       "      <td>0</td>\n",
       "      <td>0</td>\n",
       "      <td>0</td>\n",
       "      <td>0</td>\n",
       "      <td>0</td>\n",
       "      <td>0</td>\n",
       "      <td>0</td>\n",
       "      <td>0</td>\n",
       "    </tr>\n",
       "    <tr>\n",
       "      <th>2</th>\n",
       "      <td>1</td>\n",
       "      <td>0</td>\n",
       "      <td>0</td>\n",
       "      <td>0</td>\n",
       "      <td>0</td>\n",
       "      <td>0</td>\n",
       "      <td>0</td>\n",
       "      <td>0</td>\n",
       "      <td>0</td>\n",
       "      <td>0</td>\n",
       "      <td>...</td>\n",
       "      <td>0</td>\n",
       "      <td>0</td>\n",
       "      <td>0</td>\n",
       "      <td>0</td>\n",
       "      <td>0</td>\n",
       "      <td>0</td>\n",
       "      <td>0</td>\n",
       "      <td>0</td>\n",
       "      <td>0</td>\n",
       "      <td>0</td>\n",
       "    </tr>\n",
       "    <tr>\n",
       "      <th>3</th>\n",
       "      <td>4</td>\n",
       "      <td>0</td>\n",
       "      <td>0</td>\n",
       "      <td>0</td>\n",
       "      <td>0</td>\n",
       "      <td>0</td>\n",
       "      <td>0</td>\n",
       "      <td>0</td>\n",
       "      <td>0</td>\n",
       "      <td>0</td>\n",
       "      <td>...</td>\n",
       "      <td>0</td>\n",
       "      <td>0</td>\n",
       "      <td>0</td>\n",
       "      <td>0</td>\n",
       "      <td>0</td>\n",
       "      <td>0</td>\n",
       "      <td>0</td>\n",
       "      <td>0</td>\n",
       "      <td>0</td>\n",
       "      <td>0</td>\n",
       "    </tr>\n",
       "    <tr>\n",
       "      <th>4</th>\n",
       "      <td>0</td>\n",
       "      <td>0</td>\n",
       "      <td>0</td>\n",
       "      <td>0</td>\n",
       "      <td>0</td>\n",
       "      <td>0</td>\n",
       "      <td>0</td>\n",
       "      <td>0</td>\n",
       "      <td>0</td>\n",
       "      <td>0</td>\n",
       "      <td>...</td>\n",
       "      <td>0</td>\n",
       "      <td>0</td>\n",
       "      <td>0</td>\n",
       "      <td>0</td>\n",
       "      <td>0</td>\n",
       "      <td>0</td>\n",
       "      <td>0</td>\n",
       "      <td>0</td>\n",
       "      <td>0</td>\n",
       "      <td>0</td>\n",
       "    </tr>\n",
       "  </tbody>\n",
       "</table>\n",
       "<p>5 rows × 785 columns</p>\n",
       "</div>"
      ],
      "text/plain": [
       "   label  pixel0  pixel1  pixel2  pixel3  pixel4  pixel5  pixel6  pixel7  \\\n",
       "0      1       0       0       0       0       0       0       0       0   \n",
       "1      0       0       0       0       0       0       0       0       0   \n",
       "2      1       0       0       0       0       0       0       0       0   \n",
       "3      4       0       0       0       0       0       0       0       0   \n",
       "4      0       0       0       0       0       0       0       0       0   \n",
       "\n",
       "   pixel8  ...  pixel774  pixel775  pixel776  pixel777  pixel778  pixel779  \\\n",
       "0       0  ...         0         0         0         0         0         0   \n",
       "1       0  ...         0         0         0         0         0         0   \n",
       "2       0  ...         0         0         0         0         0         0   \n",
       "3       0  ...         0         0         0         0         0         0   \n",
       "4       0  ...         0         0         0         0         0         0   \n",
       "\n",
       "   pixel780  pixel781  pixel782  pixel783  \n",
       "0         0         0         0         0  \n",
       "1         0         0         0         0  \n",
       "2         0         0         0         0  \n",
       "3         0         0         0         0  \n",
       "4         0         0         0         0  \n",
       "\n",
       "[5 rows x 785 columns]"
      ]
     },
     "execution_count": 4,
     "metadata": {},
     "output_type": "execute_result"
    }
   ],
   "source": [
    "train.head()"
   ]
  },
  {
   "cell_type": "code",
   "execution_count": 5,
   "metadata": {},
   "outputs": [],
   "source": [
    "test=pd.read_csv('data/test.csv')"
   ]
  },
  {
   "cell_type": "code",
   "execution_count": 6,
   "metadata": {},
   "outputs": [
    {
     "data": {
      "text/plain": [
       "(28000, 784)"
      ]
     },
     "execution_count": 6,
     "metadata": {},
     "output_type": "execute_result"
    }
   ],
   "source": [
    "test.shape"
   ]
  },
  {
   "cell_type": "code",
   "execution_count": 7,
   "metadata": {},
   "outputs": [
    {
     "data": {
      "text/html": [
       "<div>\n",
       "<style scoped>\n",
       "    .dataframe tbody tr th:only-of-type {\n",
       "        vertical-align: middle;\n",
       "    }\n",
       "\n",
       "    .dataframe tbody tr th {\n",
       "        vertical-align: top;\n",
       "    }\n",
       "\n",
       "    .dataframe thead th {\n",
       "        text-align: right;\n",
       "    }\n",
       "</style>\n",
       "<table border=\"1\" class=\"dataframe\">\n",
       "  <thead>\n",
       "    <tr style=\"text-align: right;\">\n",
       "      <th></th>\n",
       "      <th>pixel0</th>\n",
       "      <th>pixel1</th>\n",
       "      <th>pixel2</th>\n",
       "      <th>pixel3</th>\n",
       "      <th>pixel4</th>\n",
       "      <th>pixel5</th>\n",
       "      <th>pixel6</th>\n",
       "      <th>pixel7</th>\n",
       "      <th>pixel8</th>\n",
       "      <th>pixel9</th>\n",
       "      <th>...</th>\n",
       "      <th>pixel774</th>\n",
       "      <th>pixel775</th>\n",
       "      <th>pixel776</th>\n",
       "      <th>pixel777</th>\n",
       "      <th>pixel778</th>\n",
       "      <th>pixel779</th>\n",
       "      <th>pixel780</th>\n",
       "      <th>pixel781</th>\n",
       "      <th>pixel782</th>\n",
       "      <th>pixel783</th>\n",
       "    </tr>\n",
       "  </thead>\n",
       "  <tbody>\n",
       "    <tr>\n",
       "      <th>0</th>\n",
       "      <td>0</td>\n",
       "      <td>0</td>\n",
       "      <td>0</td>\n",
       "      <td>0</td>\n",
       "      <td>0</td>\n",
       "      <td>0</td>\n",
       "      <td>0</td>\n",
       "      <td>0</td>\n",
       "      <td>0</td>\n",
       "      <td>0</td>\n",
       "      <td>...</td>\n",
       "      <td>0</td>\n",
       "      <td>0</td>\n",
       "      <td>0</td>\n",
       "      <td>0</td>\n",
       "      <td>0</td>\n",
       "      <td>0</td>\n",
       "      <td>0</td>\n",
       "      <td>0</td>\n",
       "      <td>0</td>\n",
       "      <td>0</td>\n",
       "    </tr>\n",
       "    <tr>\n",
       "      <th>1</th>\n",
       "      <td>0</td>\n",
       "      <td>0</td>\n",
       "      <td>0</td>\n",
       "      <td>0</td>\n",
       "      <td>0</td>\n",
       "      <td>0</td>\n",
       "      <td>0</td>\n",
       "      <td>0</td>\n",
       "      <td>0</td>\n",
       "      <td>0</td>\n",
       "      <td>...</td>\n",
       "      <td>0</td>\n",
       "      <td>0</td>\n",
       "      <td>0</td>\n",
       "      <td>0</td>\n",
       "      <td>0</td>\n",
       "      <td>0</td>\n",
       "      <td>0</td>\n",
       "      <td>0</td>\n",
       "      <td>0</td>\n",
       "      <td>0</td>\n",
       "    </tr>\n",
       "    <tr>\n",
       "      <th>2</th>\n",
       "      <td>0</td>\n",
       "      <td>0</td>\n",
       "      <td>0</td>\n",
       "      <td>0</td>\n",
       "      <td>0</td>\n",
       "      <td>0</td>\n",
       "      <td>0</td>\n",
       "      <td>0</td>\n",
       "      <td>0</td>\n",
       "      <td>0</td>\n",
       "      <td>...</td>\n",
       "      <td>0</td>\n",
       "      <td>0</td>\n",
       "      <td>0</td>\n",
       "      <td>0</td>\n",
       "      <td>0</td>\n",
       "      <td>0</td>\n",
       "      <td>0</td>\n",
       "      <td>0</td>\n",
       "      <td>0</td>\n",
       "      <td>0</td>\n",
       "    </tr>\n",
       "    <tr>\n",
       "      <th>3</th>\n",
       "      <td>0</td>\n",
       "      <td>0</td>\n",
       "      <td>0</td>\n",
       "      <td>0</td>\n",
       "      <td>0</td>\n",
       "      <td>0</td>\n",
       "      <td>0</td>\n",
       "      <td>0</td>\n",
       "      <td>0</td>\n",
       "      <td>0</td>\n",
       "      <td>...</td>\n",
       "      <td>0</td>\n",
       "      <td>0</td>\n",
       "      <td>0</td>\n",
       "      <td>0</td>\n",
       "      <td>0</td>\n",
       "      <td>0</td>\n",
       "      <td>0</td>\n",
       "      <td>0</td>\n",
       "      <td>0</td>\n",
       "      <td>0</td>\n",
       "    </tr>\n",
       "    <tr>\n",
       "      <th>4</th>\n",
       "      <td>0</td>\n",
       "      <td>0</td>\n",
       "      <td>0</td>\n",
       "      <td>0</td>\n",
       "      <td>0</td>\n",
       "      <td>0</td>\n",
       "      <td>0</td>\n",
       "      <td>0</td>\n",
       "      <td>0</td>\n",
       "      <td>0</td>\n",
       "      <td>...</td>\n",
       "      <td>0</td>\n",
       "      <td>0</td>\n",
       "      <td>0</td>\n",
       "      <td>0</td>\n",
       "      <td>0</td>\n",
       "      <td>0</td>\n",
       "      <td>0</td>\n",
       "      <td>0</td>\n",
       "      <td>0</td>\n",
       "      <td>0</td>\n",
       "    </tr>\n",
       "  </tbody>\n",
       "</table>\n",
       "<p>5 rows × 784 columns</p>\n",
       "</div>"
      ],
      "text/plain": [
       "   pixel0  pixel1  pixel2  pixel3  pixel4  pixel5  pixel6  pixel7  pixel8  \\\n",
       "0       0       0       0       0       0       0       0       0       0   \n",
       "1       0       0       0       0       0       0       0       0       0   \n",
       "2       0       0       0       0       0       0       0       0       0   \n",
       "3       0       0       0       0       0       0       0       0       0   \n",
       "4       0       0       0       0       0       0       0       0       0   \n",
       "\n",
       "   pixel9  ...  pixel774  pixel775  pixel776  pixel777  pixel778  pixel779  \\\n",
       "0       0  ...         0         0         0         0         0         0   \n",
       "1       0  ...         0         0         0         0         0         0   \n",
       "2       0  ...         0         0         0         0         0         0   \n",
       "3       0  ...         0         0         0         0         0         0   \n",
       "4       0  ...         0         0         0         0         0         0   \n",
       "\n",
       "   pixel780  pixel781  pixel782  pixel783  \n",
       "0         0         0         0         0  \n",
       "1         0         0         0         0  \n",
       "2         0         0         0         0  \n",
       "3         0         0         0         0  \n",
       "4         0         0         0         0  \n",
       "\n",
       "[5 rows x 784 columns]"
      ]
     },
     "execution_count": 7,
     "metadata": {},
     "output_type": "execute_result"
    }
   ],
   "source": [
    "test.head()"
   ]
  },
  {
   "cell_type": "code",
   "execution_count": 8,
   "metadata": {},
   "outputs": [],
   "source": [
    "Y_train = train['label']"
   ]
  },
  {
   "cell_type": "code",
   "execution_count": 9,
   "metadata": {},
   "outputs": [
    {
     "data": {
      "text/plain": [
       "0        1\n",
       "1        0\n",
       "2        1\n",
       "3        4\n",
       "4        0\n",
       "        ..\n",
       "41995    0\n",
       "41996    1\n",
       "41997    7\n",
       "41998    6\n",
       "41999    9\n",
       "Name: label, Length: 42000, dtype: int64"
      ]
     },
     "execution_count": 9,
     "metadata": {},
     "output_type": "execute_result"
    }
   ],
   "source": [
    "Y_train"
   ]
  },
  {
   "cell_type": "code",
   "execution_count": 10,
   "metadata": {},
   "outputs": [],
   "source": [
    "X_train = train.drop(labels = ['label'],axis = 1)"
   ]
  },
  {
   "cell_type": "code",
   "execution_count": 11,
   "metadata": {},
   "outputs": [
    {
     "data": {
      "text/html": [
       "<div>\n",
       "<style scoped>\n",
       "    .dataframe tbody tr th:only-of-type {\n",
       "        vertical-align: middle;\n",
       "    }\n",
       "\n",
       "    .dataframe tbody tr th {\n",
       "        vertical-align: top;\n",
       "    }\n",
       "\n",
       "    .dataframe thead th {\n",
       "        text-align: right;\n",
       "    }\n",
       "</style>\n",
       "<table border=\"1\" class=\"dataframe\">\n",
       "  <thead>\n",
       "    <tr style=\"text-align: right;\">\n",
       "      <th></th>\n",
       "      <th>pixel0</th>\n",
       "      <th>pixel1</th>\n",
       "      <th>pixel2</th>\n",
       "      <th>pixel3</th>\n",
       "      <th>pixel4</th>\n",
       "      <th>pixel5</th>\n",
       "      <th>pixel6</th>\n",
       "      <th>pixel7</th>\n",
       "      <th>pixel8</th>\n",
       "      <th>pixel9</th>\n",
       "      <th>...</th>\n",
       "      <th>pixel774</th>\n",
       "      <th>pixel775</th>\n",
       "      <th>pixel776</th>\n",
       "      <th>pixel777</th>\n",
       "      <th>pixel778</th>\n",
       "      <th>pixel779</th>\n",
       "      <th>pixel780</th>\n",
       "      <th>pixel781</th>\n",
       "      <th>pixel782</th>\n",
       "      <th>pixel783</th>\n",
       "    </tr>\n",
       "  </thead>\n",
       "  <tbody>\n",
       "    <tr>\n",
       "      <th>0</th>\n",
       "      <td>0</td>\n",
       "      <td>0</td>\n",
       "      <td>0</td>\n",
       "      <td>0</td>\n",
       "      <td>0</td>\n",
       "      <td>0</td>\n",
       "      <td>0</td>\n",
       "      <td>0</td>\n",
       "      <td>0</td>\n",
       "      <td>0</td>\n",
       "      <td>...</td>\n",
       "      <td>0</td>\n",
       "      <td>0</td>\n",
       "      <td>0</td>\n",
       "      <td>0</td>\n",
       "      <td>0</td>\n",
       "      <td>0</td>\n",
       "      <td>0</td>\n",
       "      <td>0</td>\n",
       "      <td>0</td>\n",
       "      <td>0</td>\n",
       "    </tr>\n",
       "    <tr>\n",
       "      <th>1</th>\n",
       "      <td>0</td>\n",
       "      <td>0</td>\n",
       "      <td>0</td>\n",
       "      <td>0</td>\n",
       "      <td>0</td>\n",
       "      <td>0</td>\n",
       "      <td>0</td>\n",
       "      <td>0</td>\n",
       "      <td>0</td>\n",
       "      <td>0</td>\n",
       "      <td>...</td>\n",
       "      <td>0</td>\n",
       "      <td>0</td>\n",
       "      <td>0</td>\n",
       "      <td>0</td>\n",
       "      <td>0</td>\n",
       "      <td>0</td>\n",
       "      <td>0</td>\n",
       "      <td>0</td>\n",
       "      <td>0</td>\n",
       "      <td>0</td>\n",
       "    </tr>\n",
       "    <tr>\n",
       "      <th>2</th>\n",
       "      <td>0</td>\n",
       "      <td>0</td>\n",
       "      <td>0</td>\n",
       "      <td>0</td>\n",
       "      <td>0</td>\n",
       "      <td>0</td>\n",
       "      <td>0</td>\n",
       "      <td>0</td>\n",
       "      <td>0</td>\n",
       "      <td>0</td>\n",
       "      <td>...</td>\n",
       "      <td>0</td>\n",
       "      <td>0</td>\n",
       "      <td>0</td>\n",
       "      <td>0</td>\n",
       "      <td>0</td>\n",
       "      <td>0</td>\n",
       "      <td>0</td>\n",
       "      <td>0</td>\n",
       "      <td>0</td>\n",
       "      <td>0</td>\n",
       "    </tr>\n",
       "    <tr>\n",
       "      <th>3</th>\n",
       "      <td>0</td>\n",
       "      <td>0</td>\n",
       "      <td>0</td>\n",
       "      <td>0</td>\n",
       "      <td>0</td>\n",
       "      <td>0</td>\n",
       "      <td>0</td>\n",
       "      <td>0</td>\n",
       "      <td>0</td>\n",
       "      <td>0</td>\n",
       "      <td>...</td>\n",
       "      <td>0</td>\n",
       "      <td>0</td>\n",
       "      <td>0</td>\n",
       "      <td>0</td>\n",
       "      <td>0</td>\n",
       "      <td>0</td>\n",
       "      <td>0</td>\n",
       "      <td>0</td>\n",
       "      <td>0</td>\n",
       "      <td>0</td>\n",
       "    </tr>\n",
       "    <tr>\n",
       "      <th>4</th>\n",
       "      <td>0</td>\n",
       "      <td>0</td>\n",
       "      <td>0</td>\n",
       "      <td>0</td>\n",
       "      <td>0</td>\n",
       "      <td>0</td>\n",
       "      <td>0</td>\n",
       "      <td>0</td>\n",
       "      <td>0</td>\n",
       "      <td>0</td>\n",
       "      <td>...</td>\n",
       "      <td>0</td>\n",
       "      <td>0</td>\n",
       "      <td>0</td>\n",
       "      <td>0</td>\n",
       "      <td>0</td>\n",
       "      <td>0</td>\n",
       "      <td>0</td>\n",
       "      <td>0</td>\n",
       "      <td>0</td>\n",
       "      <td>0</td>\n",
       "    </tr>\n",
       "  </tbody>\n",
       "</table>\n",
       "<p>5 rows × 784 columns</p>\n",
       "</div>"
      ],
      "text/plain": [
       "   pixel0  pixel1  pixel2  pixel3  pixel4  pixel5  pixel6  pixel7  pixel8  \\\n",
       "0       0       0       0       0       0       0       0       0       0   \n",
       "1       0       0       0       0       0       0       0       0       0   \n",
       "2       0       0       0       0       0       0       0       0       0   \n",
       "3       0       0       0       0       0       0       0       0       0   \n",
       "4       0       0       0       0       0       0       0       0       0   \n",
       "\n",
       "   pixel9  ...  pixel774  pixel775  pixel776  pixel777  pixel778  pixel779  \\\n",
       "0       0  ...         0         0         0         0         0         0   \n",
       "1       0  ...         0         0         0         0         0         0   \n",
       "2       0  ...         0         0         0         0         0         0   \n",
       "3       0  ...         0         0         0         0         0         0   \n",
       "4       0  ...         0         0         0         0         0         0   \n",
       "\n",
       "   pixel780  pixel781  pixel782  pixel783  \n",
       "0         0         0         0         0  \n",
       "1         0         0         0         0  \n",
       "2         0         0         0         0  \n",
       "3         0         0         0         0  \n",
       "4         0         0         0         0  \n",
       "\n",
       "[5 rows x 784 columns]"
      ]
     },
     "execution_count": 11,
     "metadata": {},
     "output_type": "execute_result"
    }
   ],
   "source": [
    "X_train.head()"
   ]
  },
  {
   "cell_type": "code",
   "execution_count": 12,
   "metadata": {},
   "outputs": [
    {
     "data": {
      "text/plain": [
       "label\n",
       "1    4684\n",
       "7    4401\n",
       "3    4351\n",
       "9    4188\n",
       "2    4177\n",
       "6    4137\n",
       "0    4132\n",
       "4    4072\n",
       "8    4063\n",
       "5    3795\n",
       "Name: count, dtype: int64"
      ]
     },
     "execution_count": 12,
     "metadata": {},
     "output_type": "execute_result"
    },
    {
     "data": {
      "image/png": "[encoded data removed]",
      "text/plain": [
       "<Figure size 1500x700 with 1 Axes>"
      ]
     },
     "metadata": {},
     "output_type": "display_data"
    }
   ],
   "source": [
    "plt.figure(figsize=(15,7))\n",
    "sns.countplot(Y_train,palette='icefire')\n",
    "plt.title('Sayilardan kac tane')\n",
    "Y_train.value_counts()\n"
   ]
  },
  {
   "cell_type": "code",
   "execution_count": 13,
   "metadata": {},
   "outputs": [
    {
     "data": {
      "image/png": "[encoded data removed]",
      "text/plain": [
       "<Figure size 640x480 with 1 Axes>"
      ]
     },
     "metadata": {},
     "output_type": "display_data"
    }
   ],
   "source": [
    "img = X_train.iloc[3].to_numpy()\n",
    "img = img.reshape((28,28))\n",
    "plt.imshow(img,cmap='gray')\n",
    "plt.title(train.iloc[3,0])\n",
    "plt.axis(\"off\")\n",
    "plt.show()"
   ]
  },
  {
   "cell_type": "code",
   "execution_count": 14,
   "metadata": {},
   "outputs": [
    {
     "data": {
      "image/png": "[encoded data removed]",
      "text/plain": [
       "<Figure size 640x480 with 1 Axes>"
      ]
     },
     "metadata": {},
     "output_type": "display_data"
    }
   ],
   "source": [
    "# plot some samples\n",
    "img = X_train.iloc[0].to_numpy()\n",
    "img = img.reshape((28,28))\n",
    "plt.imshow(img,cmap='gray')\n",
    "plt.title(train.iloc[0,0])\n",
    "plt.axis(\"off\")\n",
    "plt.show()"
   ]
  },
  {
   "cell_type": "markdown",
   "metadata": {},
   "source": [
    "<a id=\"2\"></a>\n",
    "## Normalizasyon, Yeniden Şekillendirme ve Etiket Kodlama\n",
    "* Normalizasyon\n",
    "    * Aydınlatma farklılıklarının etkisini azaltmak için bir gri tonlama normalizasyonu gerçekleştiriyoruz.\n",
    "    * Normalizasyon gerçekleştirirsek, CNN daha hızlı çalışır.\n",
    "* Yeniden Şekillendirme\n",
    "    * Eğitim ve test görüntüleri (28 x 28)\n",
    "    * Tüm verileri 28x28x1 3B matrislere yeniden şekillendiriyoruz.\n",
    "    * Keras'ın kanallara karşılık gelen ek bir boyuta ihtiyacı vardır. Görüntülerimiz gri tonlamalı olduğundan yalnızca bir kanal kullanılır.\n",
    "* Etiket Kodlama\n",
    "    * Etiketleri tek sıcak vektörlere kodlayın\n",
    "        * 2 => [0,0,1,0,0,0,0,0,0,0]\n",
    "        * 4 => [0,0,0,0,1,0,0,0,0,0]"
   ]
  },
  {
   "cell_type": "markdown",
   "metadata": {},
   "source": [
    "### Normalizasyon (Normalization)\n",
    "Görüntülerdeki piksel değerlerinin genellikle 0 ile 255 arasında bir aralıkta bulunduğunu göz önünde bulundurursak, normalizasyon işlemi bu piksel değerlerini belirli bir aralığa ölçeklendirerek veya dönüştürerek gerçekleştirilir. Bu örnekte, gri tonlamalı bir görüntüyü ele aldığımız için, piksel değerlerini 0 ile 1 arasında ölçeklendirme adımını uyguluyoruz. Bu, aydınlatma farklılıklarının etkisini azaltmaya ve modelin daha iyi öğrenmesini sağlamaya yardımcı olur.\n"
   ]
  },
  {
   "cell_type": "code",
   "execution_count": 15,
   "metadata": {},
   "outputs": [],
   "source": [
    "X_train = X_train / 255.0\n",
    "test = test / 255.0"
   ]
  },
  {
   "cell_type": "code",
   "execution_count": 16,
   "metadata": {},
   "outputs": [
    {
     "data": {
      "text/plain": [
       "(42000, 784)"
      ]
     },
     "execution_count": 16,
     "metadata": {},
     "output_type": "execute_result"
    }
   ],
   "source": [
    "X_train.shape"
   ]
  },
  {
   "cell_type": "code",
   "execution_count": 17,
   "metadata": {},
   "outputs": [
    {
     "data": {
      "text/plain": [
       "(28000, 784)"
      ]
     },
     "execution_count": 17,
     "metadata": {},
     "output_type": "execute_result"
    }
   ],
   "source": [
    "test.shape"
   ]
  },
  {
   "cell_type": "markdown",
   "metadata": {},
   "source": [
    "### Yeniden Şekillendirme (Reshape)\n",
    "Veri hazırlığı sırasında, veri setindeki görüntülerin boyutlarını uygun bir şekle getirmek önemlidir. Bu örnekte, 28x28 piksel boyutunda olan her bir görüntüyü 28x28x1(1 burada Gray-Scale olduğu anlamına gelir örneğin 3 olsa rgb) boyutunda bir 3B matrise dönüştürüyoruz. Bu, Keras gibi derin öğrenme kütüphanelerinin giriş verilerini kabul etme şeklini karşılamak için gereklidir. Gri tonlamalı görüntüler yalnızca bir kanal içerdiğinden, 1 kanallı bir görüntü oluşturulur."
   ]
  },
  {
   "cell_type": "markdown",
   "metadata": {},
   "source": [
    "Örneğin, X_train veri kümesi bir 2B dizidir (örneğin, (m, n), burada m örnek sayısı ve n özellik sayısıdır). Ancak, bu örnekte, 2B diziyi bir 4B dizide (örneğin, (m, 28, 28, 1)) yeniden şekillendiriyoruz. Burada -1, m örnek sayısının otomatik olarak hesaplanmasını sağlar. Yani, Numpy otomatik olarak m'yi hesaplar ve uygun boyutları oluşturur.\n",
    "\n",
    "Bu şekilde, veri setimizin boyutunu değiştirebilirken, belirli bir boyutu önceden belirtmemiz gerekmez. Numpy, bu boyutu otomatik olarak hesaplar ve uygun bir şekilde yeniden şekillendirme işlemi gerçekleştirir."
   ]
  },
  {
   "cell_type": "code",
   "execution_count": 18,
   "metadata": {},
   "outputs": [],
   "source": [
    "X_train = X_train.values.reshape(-1,28,28,1)\n",
    "test = test.values.reshape(-1,28,28,1)"
   ]
  },
  {
   "cell_type": "markdown",
   "metadata": {},
   "source": [
    "### Etiket Kodlama (Label Encoding)\n",
    "Modelimizi eğitirken, genellikle sınıflandırma problemlerinde hedef değişkenlerimizi kategorik olarak kodlamamız gerekir. Bu örnekte, etiketleri (sınıf bilgilerini) tek sıcak vektörlere dönüştürüyoruz. Tek sıcak kodlama, sınıf etiketlerini anlamlı bir şekilde kodlamak için kullanılır. Her bir sınıf için bir vektör oluşturulur ve ilgili sınıfın endeksi 1, diğer endeksler ise 0 olur. Bu, sınıf bilgilerini modelin daha iyi anlamasına ve işlemesine yardımcı olur."
   ]
  },
  {
   "cell_type": "code",
   "execution_count": 19,
   "metadata": {},
   "outputs": [],
   "source": [
    "from keras.utils.np_utils import to_categorical\n",
    "Y_train = to_categorical(Y_train, num_classes = 10)"
   ]
  },
  {
   "cell_type": "code",
   "execution_count": 20,
   "metadata": {},
   "outputs": [
    {
     "data": {
      "text/plain": [
       "array([[0., 1., 0., ..., 0., 0., 0.],\n",
       "       [1., 0., 0., ..., 0., 0., 0.],\n",
       "       [0., 1., 0., ..., 0., 0., 0.],\n",
       "       ...,\n",
       "       [0., 0., 0., ..., 1., 0., 0.],\n",
       "       [0., 0., 0., ..., 0., 0., 0.],\n",
       "       [0., 0., 0., ..., 0., 0., 1.]], dtype=float32)"
      ]
     },
     "execution_count": 20,
     "metadata": {},
     "output_type": "execute_result"
    }
   ],
   "source": [
    "Y_train"
   ]
  },
  {
   "cell_type": "markdown",
   "metadata": {},
   "source": [
    "### Train, Test, Val split\n",
    "Eğitim Seti (Train Set): Eğitim seti, modelin öğrenmesi ve parametrelerini ayarlaması için kullanılan veri kümesidir. Model, eğitim setindeki özelliklerle birlikte etiketleri (gerçek çıktıları) kullanarak öğrenir. Eğitim seti, genellikle modelin çoğunlukla %70-80'ini oluşturur ve modelin en iyi şekilde öğrenmesini sağlamak için kullanılır.\n",
    "\n",
    "Test Seti (Test Set): Test seti, eğitim sürecinde modelin performansını değerlendirmek için kullanılan ayrılmış veri kümesidir. Model, eğitim setinde öğrenilen bilgileri kullanarak test setindeki verilerle tahminler yapar. Bu tahminler, test setindeki gerçek etiketlerle karşılaştırılarak modelin performansı değerlendirilir. Test seti, modelin eğitilmediği ve görmediği verilerle test edildiği için, modelin gerçek dünya verilerine ne kadar iyi genelleştirme yapabildiğini gösterir.\n",
    "\n",
    "Doğrulama Seti (Validation Set): Doğrulama seti, modelin eğitim sırasında aşırı uyumu (overfitting) önlemek ve modelin hiperparametrelerini ayarlamak için kullanılan bir veri kümesidir. Model, eğitim setinde öğrenirken, doğrulama setindeki verilerle doğruluğunu değerlendirir ve hiperparametrelerin ayarlanmasına yardımcı olur. Doğrulama seti, eğitim setinden farklıdır ve modelin genelleştirilmiş performansını daha bağımsız bir şekilde değerlendirmeye yardımcı olur."
   ]
  },
  {
   "cell_type": "code",
   "execution_count": 21,
   "metadata": {},
   "outputs": [],
   "source": [
    "from sklearn.model_selection import train_test_split\n",
    "X_train, X_val, Y_train, Y_val = train_test_split(X_train, Y_train, test_size = 0.1, random_state=2)"
   ]
  },
  {
   "cell_type": "code",
   "execution_count": 22,
   "metadata": {},
   "outputs": [
    {
     "data": {
      "text/plain": [
       "(37800, 28, 28, 1)"
      ]
     },
     "execution_count": 22,
     "metadata": {},
     "output_type": "execute_result"
    }
   ],
   "source": [
    "X_train.shape"
   ]
  },
  {
   "cell_type": "code",
   "execution_count": 23,
   "metadata": {},
   "outputs": [
    {
     "data": {
      "text/plain": [
       "(4200, 28, 28, 1)"
      ]
     },
     "execution_count": 23,
     "metadata": {},
     "output_type": "execute_result"
    }
   ],
   "source": [
    "X_val.shape"
   ]
  },
  {
   "cell_type": "code",
   "execution_count": 24,
   "metadata": {},
   "outputs": [
    {
     "data": {
      "text/plain": [
       "(37800, 10)"
      ]
     },
     "execution_count": 24,
     "metadata": {},
     "output_type": "execute_result"
    }
   ],
   "source": [
    "Y_train.shape"
   ]
  },
  {
   "cell_type": "code",
   "execution_count": 25,
   "metadata": {},
   "outputs": [
    {
     "data": {
      "text/plain": [
       "(4200, 10)"
      ]
     },
     "execution_count": 25,
     "metadata": {},
     "output_type": "execute_result"
    }
   ],
   "source": [
    "Y_val.shape"
   ]
  },
  {
   "cell_type": "code",
   "execution_count": 26,
   "metadata": {},
   "outputs": [
    {
     "data": {
      "image/png": "[encoded data removed]",
      "text/plain": [
       "<Figure size 640x480 with 1 Axes>"
      ]
     },
     "metadata": {},
     "output_type": "display_data"
    }
   ],
   "source": [
    "plt.imshow(X_train[2][:,:,0],cmap='gray')\n",
    "plt.show()"
   ]
  },
  {
   "cell_type": "markdown",
   "metadata": {},
   "source": [
    "<a id=\"4\"></a>\n",
    "## Convolutional Neural Network \n",
    "* <a href=\"https://ibb.co/kV1j9p\"><img src=\"https://preview.ibb.co/nRkBpp/gec2.jpg\" alt=\"gec2\" border=\"0\"></a>\n",
    "\n",
    "CNN'ler, özellikle görsel veri işleme alanında başarılı olan derin öğrenme modellerinden biridir. İşte CNN'in temel özellikleri:\n",
    "\n",
    "Evrişim (Convolution): CNN'ler, evrişim adı verilen bir işlemi kullanarak giriş verisinin özelliklerini öğrenir. Evrişim işlemi, filtrelerin(filtre örneğin bir kedi resminin kuyruğu kulağı gibi verilerin ayırt edilmesini sağlar) giriş verisi üzerinde kaydırılması ve farklı özelliklerin vurgulanması veya çıkarılması için kullanılır. Bu sayede, verinin lokal özellikleri öğrenilebilir ve daha karmaşık yapılar tanınabilir hale gelir.\n",
    "\n",
    "Pooling (Havuzlama): CNN'lerde evrişim işleminden sonra sıklıkla havuzlama (pooling) işlemi uygulanır. Havuzlama, giriş verisinin boyutunu küçültmek ve özellikleri daha genelleştirmek için kullanılır. Genellikle en yaygın kullanılan havuzlama türü, maksimum havuzlama veya ortalama havuzlamadır.(Örneğin kulağı görebileceğim en büyük değeri getiriyor)\n",
    "\n",
    "Derinlik (Depth): CNN'ler, çok katmanlı bir yapıya sahiptir. Her katman, önceki katmanın çıktılarını giriş olarak alır ve daha karmaşık özellikleri öğrenmek için daha fazla filtre veya öznitelik haritası içerir. Bu, verinin daha yüksek seviyeli özelliklerini öğrenmek için modelin derinlemesine gidebilmesini sağlar.\n",
    "\n",
    "Flatten(Düzleştirme): 3x3 matrisi uzatıp 9x1 hale getirme işlemi ANN kullanmak için gerekliyor \n",
    "\n",
    "Tam Bağlantı (Fully Connected Layers): CNN'ler genellikle evrişim ve havuzlama katmanlarından sonra tam bağlantı (fully connected) katmanları ile sonlanır. Bu katmanlar, özellikleri sınıflara doğrudan bağlayarak sınıflandırma veya regresyon gibi görevler için kullanılır.\n",
    "\n",
    "CNN'ler, özellikle görüntü sınıflandırma, nesne tanıma, yüz tanıma gibi görevlerde büyük başarı elde etmiştir. Ayrıca, dil işleme, tıbbi görüntüleme ve otonom sürüş gibi alanlarda da başarılı bir şekilde kullanılmaktadır.\n",
    "\n",
    "**CNN de 2 şey öğreniyoruz bunlardan ilki artifical neural networkte bulunan weight bias kısmı ikincisi ise filtreleri öğreniyoruz filtrelerimin nasıl olacağı öğreniliyor!!**"
   ]
  },
  {
   "cell_type": "markdown",
   "metadata": {},
   "source": [
    "### Evrişim İşlemi Nedir?\n",
    "\n",
    "* Bizim bir görüntümüz ve özellik tanıyıcı (3x3) var.\n",
    "* Özellik tanıyıcısı mutlaka 3x3 matris olmak zorunda değil. 5x5 veya 7x7 olabilir.\n",
    "* Özellik tanıyıcı = çekirdek = filtre\n",
    "* Özellik tanıyıcı, kenarlar veya çıkıntılı şekiller gibi özellikleri algılar. Örneğin, girişimiz bir köpek ise, özellik tanıyıcısı köpeğin kulağı veya kuyruğu gibi özellikleri algılayabilir.(Önemli!!!!)\n",
    "* Özellik haritası = conv(giriş görüntüsü, özellik tanıyıcı). Matrislerin eleman bazında çarpımı.\n",
    "* Özellik haritası = evrişilmiş özellik\n",
    "* Adım (Stride) = giriş görüntüsünde gezinme.(Kaç atlayarak gezecek)\n",
    "* Görüntünün boyutunu küçültüyoruz. Bu, kodun daha hızlı çalışmasını sağlamak için önemlidir. Ancak, bilgi kaybediyoruz.\n",
    "* Çoklu özellik haritası oluşturuyoruz çünkü çoklu özellik tanıyıcıları (filtreleri) kullanıyoruz.\n",
    "* Gimp'e bakalım. Kenar algılama: [0,10,0],[10,-4,10],[0,10,0]\n",
    "* <a href=\"https://imgbb.com/\"><img src=\"https://image.ibb.co/m4FQC9/gec.jpg\" alt=\"gec\" border=\"0\"></a>\n",
    "* Evrişim katmanından sonra ReLU kullanıyoruz, doğrusal olmayanlığı artırıyoruz. Çünkü görüntüler doğrusal değildir.(- ve <0 olanlar 0 a diğerleri kendi değerine )\n",
    "* <a href=\"https://ibb.co/mVZih9\"><img src=\"https://preview.ibb.co/gbcQvU/RELU.jpg\" alt=\"RELU\" border=\"0\"></a>"
   ]
  },
  {
   "cell_type": "markdown",
   "metadata": {},
   "source": [
    "<a id=\"6\"></a>\n",
    "### Same Padding\n",
    "* Evrişim katmanları, bir sinir ağındaki temel yapı taşlarından biridir. Bu katmanlar, giriş verisinden farklı özelliklerin çıkarılmasına yardımcı olur. Ancak, evrişim işlemi uygulandıkça, verinin boyutu genellikle küçülür. Bu durumda, erken katmanlarda, yani ağın başlangıcında, orijinal giriş verisinin önemli bir kısmını korumak istiyoruz. Çünkü bu katmanlarda, verinin temel özellikleri, yani kenarlar, köşeler, veya basit desenler gibi düşük seviyeli özellikler, öğrenilmeye çalışılır.\n",
    "\n",
    "* Same Padding (Aynı Dolgu), bu işlemde bize yardımcı olur. Bu, giriş verisinin kenarlarına sıfırlar ekleyerek veya dolgu yaparak yapılır. Böylece, evrişim işlemi uygulandıktan sonra, çıkış boyutu giriş boyutuyla aynı kalır. Bu da demek oluyor ki, evrişim katmanlarından geçtikten sonra bile, verinin boyutu aynı kalır ve bu da bilgi kaybını minimize etmemize yardımcı olur.\n",
    "\n",
    "* Yani, evrişim katmanlarını uyguladığımızda, verinin boyutu hızlıca küçülmesin, böylece erken katmanlarda önemli bilgiler kaybolmasın diye Same Padding kullanırız. Bu sayede, ağımız daha iyi öğrenebilir ve daha iyi sonuçlar elde edebiliriz.\n",
    "* <a href=\"https://ibb.co/jUPkUp\"><img src=\"https://preview.ibb.co/noH5Up/padding.jpg\" alt=\"padding\" border=\"0\"></a>"
   ]
  },
  {
   "cell_type": "markdown",
   "metadata": {},
   "source": [
    "### Max Pooling Nedir?\n",
    "\n",
    "* Max Pooling, aşağı örnekleme veya alt örnekleme yapar. (Parametre sayısını azaltır)\n",
    "* Özellikleri, ölçek veya yönelim değişikliklerine karşı duyarsız hale getirir.\n",
    "* Ağdaki parametre sayısını ve hesaplama miktarını azaltır, bu da aşırı uydurmayı kontrol etmemize yardımcı olur.\n",
    "* <a href=\"https://ibb.co/ckTjN9\"><img src=\"https://preview.ibb.co/gsNYFU/maxpool.jpg\" alt=\"maxpool\" border=\"0\"></a>\n",
    "\n",
    "Max Pooling, evrişimli sinir ağlarında sıklıkla kullanılan bir tekniktir. Bu teknik, özellik haritasındaki (feature map) bilgi miktarını azaltarak ağın daha hızlı çalışmasını sağlar. Örneğin, 2x2 boyutunda bir pencereyi özelleştirip bu pencerenin en büyük değerini alarak çalışır. Bu şekilde, verinin boyutunu küçültür ve özellikleri daha genelleştirir, böylece modelin öğrenmesini kolaylaştırır. Ayrıca, aşırı uyumu (overfitting) kontrol etmek için de kullanılır, çünkü daha az parametre ve hesaplama kullanarak ağın genelleştirilmesini sağlar."
   ]
  },
  {
   "cell_type": "markdown",
   "metadata": {},
   "source": [
    "### Flattening Nedir?\n",
    "\n",
    "* Flattening, bir veri yapılarını düzleştirme işlemidir.\n",
    "* Özellik haritasını (feature map) 2B veya 3B tensörden (matris veya küp) 1B tensöre (vektör) dönüştürür.\n",
    "* Bu işlem, evrişimli sinir ağlarında sıkça kullanılır.\n",
    "* Özellik haritasındaki her piksel veya eleman, birbirini takip eden bir sıralama içinde tek bir satıra yerleştirilir.\n",
    "* Bu, ağın tam bağlantılı (fully connected) katmanlarına giriş yapılabilmesi için gereklidir.\n",
    "* <a href=\"https://imgbb.com/\"><img src=\"https://image.ibb.co/c7eVvU/flattenigng.jpg\" alt=\"flattenigng\" border=\"0\"></a>\n",
    "\n",
    "Flattening işlemi, evrişimli sinir ağlarında özellik haritasını düzleştirerek, sonraki tam bağlantılı (fully connected) katmanlara uygun bir formata dönüştürmek için kullanılır. Özellik haritasındaki her piksel veya eleman, tek bir satıra yerleştirilir. Böylece, ağın çıktılarını almak için gerekli olan tek boyutlu bir vektör elde edilir. Bu, evrişimli katmanlardan elde edilen özellikleri tam bağlantılı katmanlara iletebilmemizi sağlar."
   ]
  },
  {
   "cell_type": "markdown",
   "metadata": {},
   "source": [
    "### Tam Bağlantı Nedir?\n",
    "\n",
    "* Tam Bağlantı, bir katmandaki her nöronun önceki katmandaki tüm aktivasyonlarla bağlantıya sahip olduğu bir yapıdır.\n",
    "* Bu yapı, Yapay Sinir Ağları'nda (Artificial Neural Networks) sıklıkla kullanılır.\n",
    "* Her nöron, önceki katmandaki tüm nöronlarla bağlantı kurar, bu da ağın tam bağlantılı olduğu anlamına gelir.\n",
    "* Her bir bağlantı, bir ağırlıkla çarpılarak katmanlar arasındaki bilgi transferini sağlar.\n",
    "* Tam bağlantılı katmanlar, evrişimli ve havuzlama katmanlarının ardından gelir ve ağın çıktısını oluşturur.\n",
    "* <a href=\"https://ibb.co/hsS14p\"><img src=\"https://preview.ibb.co/evzsAU/fullyc.jpg\" alt=\"fullyc\" border=\"0\"></a>\n",
    "\n",
    "Tam Bağlantı yapısı, her bir nöronun önceki katmandaki tüm aktivasyonlarla bağlantı kurduğu bir yapıdır. Bu, ağın her bir girişten çıktıya kadar tamamen bağlantılı olduğu anlamına gelir. Her bir bağlantı, bir ağırlıkla çarpılarak ve uygun bir aktivasyon fonksiyonuna geçirilerek bilgiyi aktarır. Bu yapı, ağın daha karmaşık ilişkileri öğrenmesine ve çeşitli türdeki veri kümelerinde etkili olmasına olanak tanır. Tam bağlantılı katmanlar, ağın önceki katmanlarından gelen özellikleri bir araya getirerek son çıktıyı oluşturur."
   ]
  },
  {
   "cell_type": "markdown",
   "metadata": {},
   "source": [
    "### Keras Uygulaması"
   ]
  },
  {
   "cell_type": "markdown",
   "metadata": {},
   "source": [
    "### Model Oluşturma\n",
    "\n",
    "* Modelimizi oluşturmak için belirli bir mimari kullanıyoruz: evrişim => maksimum havuzlama => dropout => evrişim => maksimum havuzlama => dropout => tam bağlantılı (2 katman).\n",
    "* Dropout: Dropout, eğitim sırasında rastgele seçilen nöronların dikkate alınmadığı bir tekniktir. Bu, aşırı uydurmayı (overfitting) azaltmaya ve daha genelleştirilmiş bir model elde etmeye yardımcı olur.\n",
    "* <a href=\"https://ibb.co/jGcvVU\"><img src=\"https://preview.ibb.co/e7yPPp/dropout.jpg\" alt=\"dropout\" border=\"0\"></a>\n",
    "\n",
    "Bu modelde, evrişim katmanları ile özelliklerin çıkarılması ve önemli bilgilerin vurgulanması sağlanır. Maksimum havuzlama katmanları, boyutu küçültür ve özellikleri daha genelleştirir. Dropout katmanları, aşırı uydurmayı kontrol etmek için kullanılır. Son olarak, tam bağlantılı katmanlar, ağın çıktısını oluşturur ve sınıflandırma işlemini gerçekleştirir. Bu mimari, genellikle evrişimli sinir ağlarında sınıflandırma problemleri için etkili bir şekilde kullanılır ve iyi bir performans sağlar."
   ]
  },
  {
   "cell_type": "code",
   "execution_count": 27,
   "metadata": {},
   "outputs": [],
   "source": [
    "from sklearn.metrics import confusion_matrix\n",
    "import itertools\n",
    "\n",
    "from keras.utils.np_utils import to_categorical # convert to one-hot-encoding\n",
    "from keras.models import Sequential\n",
    "from keras.layers import Dense, Dropout, Flatten, Conv2D, MaxPool2D\n",
    "from keras.optimizers import RMSprop,Adam\n",
    "from keras.preprocessing.image import ImageDataGenerator\n",
    "from keras.callbacks import ReduceLROnPlateau\n",
    "\n",
    "model = Sequential() # squential model olusturma bir yapıdır\n",
    "model.add(Conv2D(filters = 8, kernel_size = (5,5),padding = 'Same', \n",
    "                 activation ='relu', input_shape = (28,28,1))) # 8 tane 5x5 lik kernel olusturuldu\n",
    "model.add(MaxPool2D(pool_size=(2,2))) # maxpooling yapildi\n",
    "model.add(Dropout(0.25)) # overfitting i onlemek icin dropout eklendi\n",
    "model.add(Conv2D(filters = 16, kernel_size = (3,3),padding = 'Same', \n",
    "                 activation ='relu')) # 16 tane 3x3 luk kernel olusturuldu\n",
    "model.add(MaxPool2D(pool_size=(2,2), strides=(2,2))) # maxpooling yapildi\n",
    "model.add(Dropout(0.25)) # overfitting i onlemek icin dropout eklendi\n",
    "model.add(Flatten()) # 1D array a cevirme(düzlestirme)\n",
    "model.add(Dense(256, activation = \"relu\")) # 256 nöronlu bir katman eklendi\n",
    "model.add(Dropout(0.5)) # overfitting i onlemek icin dropout eklendi\n",
    "model.add(Dense(10, activation = \"softmax\")) # 10 nöronlu bir katman eklendi"
   ]
  },
  {
   "cell_type": "markdown",
   "metadata": {},
   "source": [
    "### Parametreler\n",
    "\n",
    "1. **Filters (Filtreler)**: Filtreler, bir görüntüde belirli özellikleri bulmaya yarar. Mesela bir filtre, kenarları veya desenleri tanımak için kullanılır. Burada 8 ve 16 filtre kullanıyoruz, bu da demek oluyor ki her bir özellik için 8 veya 16 tane özel filtre oluşturulacak.\n",
    "\n",
    "2. **Pool Size (Havuz Boyutu)**: Havuzlama, bir bölgedeki (örneğin, 2x2) en büyük piksel değerini alarak görüntüyü küçültmeye yarar. Bu da modelin daha az parametreyle daha iyi öğrenmesini sağlar.\n",
    "\n",
    "3. **Dropout Oranı**: Dropout, aşırı uyumu (overfitting) önlemek için kullanılan bir tekniktir. Belirli bir oranda rastgele nöronları devre dışı bırakarak modelin daha genelleştirilmiş bir şekilde öğrenmesini sağlar. Burada, 0.25 ve 0.5 oranlarında dropout uyguluyoruz.\n",
    "\n",
    "4. **Strides (Adımlar)**: Evrişim ve havuzlama işlemlerinde adımlar, filtrelerin veya pencerenin nasıl hareket edeceğini belirler. Örneğin, (2,2) adımları kullanarak havuzlama işlemi yapılacaksa, pencere 2 birim sağa ve 2 birim aşağı hareket eder.\n",
    "\n",
    "5. **Kernel Size (Çekirdek Boyutu)**: Çekirdek boyutu, filtrelerin boyutunu belirler. Örneğin, (5,5) boyutunda bir çekirdek, 5x5 boyutunda bir filtre anlamına gelir.\n",
    "\n",
    "6. **Sondan Önceki ve Sonuncu Dense Katmanlar**: Dense katmanları, tüm nöronların birbirine bağlı olduğu katmanlardır. Sondan önceki katmanda 256 nöron var çünkü bu katmanda daha fazla özellik çıkarılması ve öğrenme yapılması gerekiyor. Sonuncu katmanda ise çıktı sınıf sayısı kadar nöron var, yani 10. Bu, modelin hangi sınıfa ait olduğunu tahmin etmesini sağlar.\n",
    "\n",
    "7. **Padding (Dolgu)**: Dolgu, bir filtre veya pencerenin sınırlarına sıfır değerleri ekleyerek çıktı boyutunu giriş boyutuyla aynı tutmaya yarar. \"Same\" değeriyle belirtilen dolgu tipi, bu işlevi yerine getirir.\n",
    "\n",
    "8. **Activation (Aktivasyon Fonksiyonu)**: Aktivasyon fonksiyonu, bir nöronun çıktısını belirler. ReLU (Rectified Linear Activation) genellikle kullanılan bir aktivasyon fonksiyonudur. Nöronun çıktısı negatifse, 0 değerini alır; pozitifse, giriş değerini alır. Bu, ağın daha hızlı öğrenmesine ve daha iyi sonuçlar elde etmesine yardımcı olur.\n",
    "\n",
    "9. **input shape (giriş boyutu)**: İlk konvolisyonumuzda modelimiz giriş boyutunu bilemez bu yüzden modele girişimizin boyutunu vermeliyiz. (28,28,1) buradaki 1 gri tonlu resim demek 3 olabilir o da rgb"
   ]
  },
  {
   "cell_type": "markdown",
   "metadata": {},
   "source": [
    "### Optimizasyon Algoritması Belirleme\n",
    "\n",
    "* Adam Optimizasyon algoritması: Öğrenme hızını ayarlar.\n",
    "\n",
    "Adam optimizasyonu, derin öğrenme modellerinde sıklıkla kullanılan bir optimizasyon algoritmasıdır. Bu algoritma, öğrenme hızını otomatik olarak ayarlar ve modelin daha hızlı ve daha verimli bir şekilde öğrenmesine yardımcı olur. Öğrenme hızı, ağın güncellenme hızını belirler; yüksek bir öğrenme hızı ağın hızlı bir şekilde öğrenmesini sağlarken, düşük bir öğrenme hızı daha istikrarlı ve düzenli bir öğrenmeye yol açabilir. Adam optimizasyonu, öğrenme hızını uygun şekilde değiştirerek modelin eğitimini optimize eder ve daha iyi sonuçlar elde etmemize yardımcı olur.\n",
    "\n",
    "Adam optimizasyonunun yanı sıra, SGD (Stochastic Gradient Descent - Stokastik Gradyan İniş) gibi diğer optimizasyon algoritmaları da bulunmaktadır. Bu algoritmaların her birinin farklı özellikleri ve avantajları vardır, ancak Adam optimizasyonu genellikle hızlı ve etkili bir şekilde çalışır ve geniş bir öğrenme hızı aralığına sahiptir. Bu nedenle, derin öğrenme modellerinin çoğunda tercih edilen bir optimizasyon algoritmasıdır.\n",
    "\n",
    "**Learning rate (öğrenme hızı)**, bir derin öğrenme modelinin ne kadar hızlı veya yavaş öğreneceğini belirleyen bir parametredir. Bu değer, her bir iterasyonda ağı güncellerken kullanılan adım boyutunu ifade eder. Yani, bir gradient iniş (gradien descent) algoritmasında, her adımda ağı ne kadar güncelleyeceğimizi kontrol eder. Yüksek bir öğrenme hızı, ağın hızlı bir şekilde öğrenmesini sağlar, ancak bu aynı zamanda ağın sınırlı bir alana sıkışıp kalmasına ve eğitim sırasında çok fazla dalgalanmaya neden olabilir. Düşük bir öğrenme hızı ise daha istikrarlı bir eğitim süreci sağlar, ancak modelin eğitim süresini uzatabilir ve minimuma daha yavaş ulaşmasına neden olabilir.\n",
    "\n",
    "Beta_1 ve beta_2 değerleri ise Adam optimizasyon algoritmasının momentum (momentum) ve ikinci moment (second moment) hiperparametreleridir. Beta_1, momentum için bir düşük geçişli ortalama (low pass filter) olan değerdir ve genellikle 0.9 olarak ayarlanır. Beta_2 ise ikinci moment için bir düşük geçişli ortalama olan değerdir ve genellikle 0.999 olarak ayarlanır. Bu değerler, gradient iniş (gradient descent) algoritmasının gürültüsünü azaltmaya ve optimal çözüme daha hızlı ulaşmasına yardımcı olur."
   ]
  },
  {
   "cell_type": "code",
   "execution_count": 28,
   "metadata": {},
   "outputs": [],
   "source": [
    "optimizer = Adam(lr=0.001, beta_1=0.9, beta_2=0.999) # optimizer tanimlandi ve learning rate belirlendi"
   ]
  },
  {
   "cell_type": "markdown",
   "metadata": {},
   "source": [
    "### Modeli Derleme\n",
    "* categorical crossentropy\n",
    "* kategorik çapraz entropi kullanıyoruz. çoklu sınıflarımız olduğu anlamına gelir.\n",
    "* <a href=\"https://ibb.co/jm1bpp\"><img src=\"https://preview.ibb.co/nN3ZaU/cce.jpg\" alt=\"cce\" border=\"0\"></a>\n",
    "\n",
    "Modeli derleme adımında, modelin eğitimini hazırlamak için gerekli ayarları yapıyoruz. Kategorik çapraz entropi, çoklu sınıflandırma problemleri için sıklıkla kullanılan bir kayıp (loss) fonksiyonudur. Bu fonksiyon, modelin tahminlerini gerçek etiketlerle karşılaştırarak ve tahmin hatalarını hesaplayarak eğitim sırasında modelin performansını ölçer. birden fazla sınıfı olan bir problemle karşı karşıya olduğumuzdan dolayı, kategorik çapraz entropi kullanıyoruz. Bu işlem, modelin doğru sınıfları tahmin etme yeteneğini iyileştirmeye ve eğitim sürecinin daha etkili olmasına yardımcı olur."
   ]
  },
  {
   "cell_type": "code",
   "execution_count": 29,
   "metadata": {},
   "outputs": [],
   "source": [
    "# modeli compile etme\n",
    "model.compile(optimizer = optimizer , loss = \"categorical_crossentropy\", metrics=[\"accuracy\"])"
   ]
  },
  {
   "cell_type": "markdown",
   "metadata": {},
   "source": [
    "### Epochs and Batch Size\n",
    "* Diyelim ki 10 örnekten (veya örnekten) oluşan bir veri kümeniz var. Bir **yığın boyutunuz** 2 ve algoritmanın 3 **epokta** çalışmasını istediğinizi belirttiniz. Bu durumda, her epokta 5 **yığın**a sahip olursunuz (10/2 = 5). Her yığın algoritmadan geçer, dolayısıyla her epokta 5 iterasyon gerçekleşir.\n",
    "* Referans: https://stackoverflow.com/questions/4752626/epoch-vs-iteration-when-training-neural-networks\n",
    "\n",
    "Epochlar, bir yapay sinir ağı modelinin eğitilmesi sırasında veri kümesinin kaç kez tamamen modelden geçirileceğini belirten bir kavramdır. Yığın boyutu ise her bir eğitim iterasyonunda kaç örnek kullanılacağını belirler. Örneğin, 10 örneğe sahip bir veri kümesinde, yığın boyutu 2 ise, her iterasyonda 2 örnek kullanılacaktır. 3 epok ve 2 yığın boyutu belirlendiğinde, her epokta 5 yığın olacak ve her biri algoritmadan geçirilecektir. Bu da toplamda 15 iterasyona tekabül eder."
   ]
  },
  {
   "cell_type": "code",
   "execution_count": 30,
   "metadata": {},
   "outputs": [],
   "source": [
    "epochs = 10  # epoch sayisi belirlendi\n",
    "batch_size = 250 # batch size belirlendi"
   ]
  },
  {
   "cell_type": "markdown",
   "metadata": {},
   "source": [
    "### Veri Artırma (Data Augmentation)\n",
    "* Aşırı uyum (overfitting) probleminden kaçınmak için, el yazısı rakam veri kümemizi yapay olarak genişletmemiz gerekiyor.\n",
    "* El yazısı rakamın çeşitliliklerini yeniden üretmek için eğitim verisini küçük dönüşümlerle değiştirin.\n",
    "* Örneğin, rakam merkezlenmemiş olabilir, ölçek aynı olmayabilir (bazı insanlar büyük/küçük rakamlarla yazar), görüntü döndürülmüş olabilir.\n",
    "* <a href=\"https://ibb.co/k24CUp\"><img src=\"https://preview.ibb.co/nMxXUp/augment.jpg\" alt=\"augment\" border=\"0\"></a>\n",
    "\n",
    "Veri artırma, bir makine öğrenimi modelinin eğitim veri kümesini çeşitlendirmek ve genişletmek için kullanılan bir tekniktir. Bu, modelin genelleyebilme yeteneğini artırarak aşırı uyumu önlemeye yardımcı olur. Özellikle sınırlı miktarda veriye sahip olduğumuzda veya veri kümesindeki sınıf dengesizliği durumlarında faydalı olabilir. Veri artırma, mevcut görüntüleri küçük dönüşümlerle (örneğin, döndürme, kaydırma, yansıtma) değiştirerek çeşitlilik oluşturur. Bu sayede model, daha geniş bir veri yelpazesine maruz kalır ve farklı varyasyonları tanımayı öğrenir, bu da daha iyi genelleme yeteneği sağlar."
   ]
  },
  {
   "cell_type": "code",
   "execution_count": 31,
   "metadata": {},
   "outputs": [],
   "source": [
    "# Veri artırma (data augmentation) işlemleri için bir ImageDataGenerator nesnesi oluşturuluyor.\n",
    "datagen = ImageDataGenerator(\n",
    "        featurewise_center=False,  # Veri kümesinin özellik ortalamasını 0 yapar.\n",
    "        samplewise_center=False,  # Her bir örneğin özellik ortalamasını 0 yapar.\n",
    "        featurewise_std_normalization=False,  # Veri kümesinin standart sapmasına göre girdileri normalleştirir.\n",
    "        samplewise_std_normalization=False,  # Her bir girdiyi kendi standart sapmasına göre normalleştirir.\n",
    "        zca_whitening=False,  # Veri seti üzerinde ZCA beyazlatma uygular, boyut azaltma yöntemi.\n",
    "        rotation_range=0.5,  # Rastgele döndürme aralığı, örneğin, 0.5 0.5 dereceye kadar rastgele döndürme yapar.\n",
    "        zoom_range = 0.5,  # Rastgele zoom yapma, örneğin, 0.5, resmin %5'ine kadar rastgele zoom yapar.\n",
    "        width_shift_range=0.5,  # Rastgele yatay kaydırma aralığı, örneğin, 0.5, resmi yatayda %5'e kadar rastgele kaydırır.\n",
    "        height_shift_range=0.5,  # Rastgele dikey kaydırma aralığı, örneğin, 0.5, resmi dikeyde %5'e kadar rastgele kaydırır.\n",
    "        horizontal_flip=False,  # Rastgele yatay çevirme, örneğin, False, resimleri rastgele yatay olarak çevirmez.\n",
    "        vertical_flip=False)  # Rastgele dikey çevirme, örneğin, False, resimleri rastgele dikey olarak çevirmez.\n",
    "datagen.fit(X_train)  # Veri artırma tekniklerini eğitim verisi üzerinde uygular.\n"
   ]
  },
  {
   "cell_type": "markdown",
   "metadata": {},
   "source": [
    "### Eğitimi başlatma"
   ]
  },
  {
   "cell_type": "code",
   "execution_count": 32,
   "metadata": {},
   "outputs": [
    {
     "name": "stdout",
     "output_type": "stream",
     "text": [
      "Epoch 1/10\n",
      "151/151 [==============================] - 17s 68ms/step - loss: 2.1903 - accuracy: 0.1852 - val_loss: 1.8302 - val_accuracy: 0.3571\n",
      "Epoch 2/10\n",
      "151/151 [==============================] - 11s 70ms/step - loss: 1.9329 - accuracy: 0.3093 - val_loss: 1.2882 - val_accuracy: 0.6512\n",
      "Epoch 3/10\n",
      "151/151 [==============================] - 11s 71ms/step - loss: 1.7428 - accuracy: 0.3936 - val_loss: 0.8566 - val_accuracy: 0.7786\n",
      "Epoch 4/10\n",
      "151/151 [==============================] - 11s 71ms/step - loss: 1.6097 - accuracy: 0.4458 - val_loss: 0.6439 - val_accuracy: 0.8507\n",
      "Epoch 5/10\n",
      "151/151 [==============================] - 10s 65ms/step - loss: 1.5232 - accuracy: 0.4725 - val_loss: 0.5327 - val_accuracy: 0.8693\n",
      "Epoch 6/10\n",
      "151/151 [==============================] - 9s 60ms/step - loss: 1.4553 - accuracy: 0.5002 - val_loss: 0.4736 - val_accuracy: 0.8805\n",
      "Epoch 7/10\n",
      "151/151 [==============================] - 10s 65ms/step - loss: 1.3998 - accuracy: 0.5211 - val_loss: 0.3873 - val_accuracy: 0.9029\n",
      "Epoch 8/10\n",
      "151/151 [==============================] - 10s 69ms/step - loss: 1.3591 - accuracy: 0.5351 - val_loss: 0.3401 - val_accuracy: 0.9112\n",
      "Epoch 9/10\n",
      "151/151 [==============================] - 11s 72ms/step - loss: 1.3223 - accuracy: 0.5510 - val_loss: 0.3254 - val_accuracy: 0.9124\n",
      "Epoch 10/10\n",
      "151/151 [==============================] - 10s 68ms/step - loss: 1.3079 - accuracy: 0.5546 - val_loss: 0.2910 - val_accuracy: 0.9214\n"
     ]
    }
   ],
   "source": [
    "# modeli fitleme\n",
    "history = model.fit_generator(datagen.flow(X_train,Y_train, batch_size=batch_size),\n",
    "                              epochs = epochs, validation_data = (X_val,Y_val), steps_per_epoch=X_train.shape[0] // batch_size)"
   ]
  },
  {
   "cell_type": "markdown",
   "metadata": {},
   "source": [
    "### Modeli Değerlendirme\n",
    "* Test Kaybı Görselleştirme\n",
    "* Karışıklık Matrisi\n",
    "\n",
    "Modelin performansını değerlendirmek için, genellikle test veri kümesi üzerinde test edilir. Bu adım, modelin tahmin yeteneğini ölçmek için kullanılır ve doğruluk, kayıp gibi metriklerle sonuçlar elde edilir.\n",
    "\n",
    "* **Test Kaybı Görselleştirme**: Modelin test veri kümesi üzerindeki performansını görselleştirmek için test kaybı (loss) değerlerini kullanabiliriz. Bu, modelin eğitim ve test aşamalarındaki performansını karşılaştırmamıza olanak tanır. Grafikte, eğitim ve test kayıplarının nasıl değiştiğini görebiliriz. Eğitim kaybının test kaybından daha düşük olması idealdir, ancak aradaki farkın çok büyük olmaması önemlidir.\n",
    "\n",
    "* **Karışıklık Matrisi**: Karışıklık matrisi, sınıflandırma modelinin performansını değerlendirmek için kullanılan bir araçtır. Gerçek sınıfıyla tahmin edilen sınıfı karşılaştırarak modelin doğruluğunu ve hata türlerini görselleştirir. Karışıklık matrisinde, her bir sınıfın gerçek değerleri dikey eksende, tahmin edilen değerleri ise yatay eksende temsil edilir. Matrisin diyagonalinde doğru tahmin edilen örnek sayısı bulunurken, diğer hücrelerde yanlış tahmin edilen örneklerin sayısı bulunur. Bu matris, modelin her bir sınıfı ne kadar doğru tahmin ettiğini ve hangi sınıflar arasında en fazla karışıklığın olduğunu anlamamıza yardımcı olur."
   ]
  },
  {
   "cell_type": "code",
   "execution_count": 33,
   "metadata": {},
   "outputs": [
    {
     "data": {
      "image/png": "[encoded data removed]",
      "text/plain": [
       "<Figure size 640x480 with 1 Axes>"
      ]
     },
     "metadata": {},
     "output_type": "display_data"
    }
   ],
   "source": [
    "# Plot the loss and accuracy curves for training and validation \n",
    "plt.plot(history.history['val_loss'], color='r', label=\"validation loss\")\n",
    "plt.title(\"Test kayip\")\n",
    "plt.xlabel(\"Epoch Sayisi\")\n",
    "plt.ylabel(\"Kayip\")\n",
    "plt.legend()\n",
    "plt.show()"
   ]
  },
  {
   "cell_type": "code",
   "execution_count": 37,
   "metadata": {},
   "outputs": [
    {
     "name": "stdout",
     "output_type": "stream",
     "text": [
      "  1/132 [..............................] - ETA: 3s"
     ]
    },
    {
     "name": "stdout",
     "output_type": "stream",
     "text": [
      "132/132 [==============================] - 1s 4ms/step\n"
     ]
    },
    {
     "data": {
      "image/png": "[encoded data removed]",
      "text/plain": [
       "<Figure size 800x800 with 2 Axes>"
      ]
     },
     "metadata": {},
     "output_type": "display_data"
    }
   ],
   "source": [
    "# confusion matrix\n",
    "import seaborn as sns\n",
    "# Predict the values from the validation dataset\n",
    "Y_pred = model.predict(X_val)\n",
    "# Convert predictions classes to one hot vectors \n",
    "Y_pred_classes = np.argmax(Y_pred,axis = 1) \n",
    "# Convert validation observations to one hot vectors\n",
    "Y_true = np.argmax(Y_val,axis = 1) \n",
    "# compute the confusion matrix\n",
    "cm = confusion_matrix(Y_true, Y_pred_classes) \n",
    "# plot the confusion matrix\n",
    "f,ax = plt.subplots(figsize=(8, 8))\n",
    "sns.heatmap(cm, annot=True, linewidths=0.01,cmap=\"Greens\",linecolor=\"gray\", fmt= '.1f',ax=ax)\n",
    "plt.xlabel(\"Tahmin Edilen Label\")\n",
    "plt.ylabel(\"Gerçek Label\")\n",
    "plt.title(\"Confusion Matrix\")\n",
    "plt.show()"
   ]
  },
  {
   "cell_type": "code",
   "execution_count": null,
   "metadata": {},
   "outputs": [],
   "source": []
  }
 ],
 "metadata": {
  "kernelspec": {
   "display_name": "tfgpu",
   "language": "python",
   "name": "python3"
  },
  "language_info": {
   "codemirror_mode": {
    "name": "ipython",
    "version": 3
   },
   "file_extension": ".py",
   "mimetype": "text/x-python",
   "name": "python",
   "nbconvert_exporter": "python",
   "pygments_lexer": "ipython3",
   "version": "3.9.18"
  }
 },
 "nbformat": 4,
 "nbformat_minor": 2
}
